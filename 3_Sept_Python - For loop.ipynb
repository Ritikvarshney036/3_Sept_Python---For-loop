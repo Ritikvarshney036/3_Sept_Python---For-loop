{
 "cells": [
  {
   "cell_type": "markdown",
   "id": "8ddc2abd-25cb-4288-9589-52d602c2a019",
   "metadata": {},
   "source": [
    "### Basic Level:"
   ]
  },
  {
   "cell_type": "code",
   "execution_count": null,
   "id": "0dd9765e-af24-4d1e-8178-66a42182f66f",
   "metadata": {},
   "outputs": [],
   "source": []
  },
  {
   "cell_type": "markdown",
   "id": "6e5631c5-4218-4f69-8953-0a88d0dfdb9c",
   "metadata": {},
   "source": [
    "Q1. Write a Python program to print the numbers from 1 to 10 using a for loop."
   ]
  },
  {
   "cell_type": "code",
   "execution_count": 8,
   "id": "cc46ce4d-ef24-4cbf-a049-8151fbc85268",
   "metadata": {},
   "outputs": [
    {
     "name": "stdout",
     "output_type": "stream",
     "text": [
      "1\n",
      "2\n",
      "3\n",
      "4\n",
      "5\n",
      "6\n",
      "7\n",
      "8\n",
      "9\n",
      "10\n"
     ]
    }
   ],
   "source": [
    "for i in range(1,11):\n",
    "    # with help of for loop I am able to print the number from 1 to 100\n",
    "    print(i)"
   ]
  },
  {
   "cell_type": "code",
   "execution_count": null,
   "id": "e1da85fa-babe-4db2-a8da-6eaf4245b673",
   "metadata": {},
   "outputs": [],
   "source": []
  },
  {
   "cell_type": "markdown",
   "id": "1b7aebe7-4faf-4140-a1c5-8e0437b50b35",
   "metadata": {},
   "source": [
    "Q2. Create a program that calculates the sum of all numbers in a list using a `for` loop."
   ]
  },
  {
   "cell_type": "code",
   "execution_count": 38,
   "id": "5615b3fd-4525-4c11-9872-258a8393bf82",
   "metadata": {},
   "outputs": [
    {
     "name": "stdout",
     "output_type": "stream",
     "text": [
      "Sum of list of element: 15\n"
     ]
    }
   ],
   "source": [
    "l=[1,2,3,4,5]\n",
    "s=0\n",
    "# initialize s from zero\n",
    "for i in l:\n",
    "    # iterate the list\n",
    "    s+=i\n",
    "print(\"Sum of list of element:\",s)    "
   ]
  },
  {
   "cell_type": "code",
   "execution_count": null,
   "id": "36e06c2c-d452-44e7-a0b6-ca427db4cf9b",
   "metadata": {},
   "outputs": [],
   "source": []
  },
  {
   "cell_type": "markdown",
   "id": "8c91dc96-a739-4d69-917e-cf3daf3a4bf7",
   "metadata": {},
   "source": [
    "Q3. Write a program to print the characters of a string in reverse order using a `for` loop."
   ]
  },
  {
   "cell_type": "code",
   "execution_count": 41,
   "id": "61f2c995-9f55-4adb-981e-cf097bc88c2b",
   "metadata": {},
   "outputs": [
    {
     "name": "stdout",
     "output_type": "stream",
     "text": [
      "sllikswp\n"
     ]
    }
   ],
   "source": [
    "l=\"pwskills\"\n",
    "s=''\n",
    "for i in l:\n",
    "    s=i+s\n",
    "    # firstly I i from iteration then I add in the s\n",
    "print(s)    "
   ]
  },
  {
   "cell_type": "code",
   "execution_count": null,
   "id": "799f2494-d6e1-4994-afc0-139e4c270c82",
   "metadata": {},
   "outputs": [],
   "source": []
  },
  {
   "cell_type": "markdown",
   "id": "0a05b2c2-01b8-43d4-9bd1-cb7418b01a9a",
   "metadata": {},
   "source": [
    "Q4. Develop a program that finds the factorial of a given number using a `for` loop."
   ]
  },
  {
   "cell_type": "code",
   "execution_count": 42,
   "id": "8e93c952-9bfb-4725-b7bb-ee90dbf9340e",
   "metadata": {},
   "outputs": [
    {
     "name": "stdin",
     "output_type": "stream",
     "text": [
      "Enter the number:  5\n"
     ]
    },
    {
     "name": "stdout",
     "output_type": "stream",
     "text": [
      "120\n"
     ]
    }
   ],
   "source": [
    "num=int(input(\"Enter the number: \"))\n",
    "fact=1\n",
    "for i in range(1,num+1):\n",
    "    # I take the range from 1 TO num+1 \n",
    "    fact=fact*i\n",
    "    # fact is multiple with the i , then it fact is mutliple from i . That's how I get the factorial\n",
    "    i=i+1\n",
    "print(fact)    "
   ]
  },
  {
   "cell_type": "code",
   "execution_count": null,
   "id": "5dde3445-a2ae-4e2c-af31-6b17f4a3ba95",
   "metadata": {},
   "outputs": [],
   "source": []
  },
  {
   "cell_type": "markdown",
   "id": "23f882ca-f92a-4317-9916-ddedb4fe3096",
   "metadata": {},
   "source": [
    "Q5. Create a program to print the multiplication table of a given number using a `for` loop."
   ]
  },
  {
   "cell_type": "code",
   "execution_count": 43,
   "id": "6d4dbb3b-3c51-4264-ade8-7c661351fef7",
   "metadata": {},
   "outputs": [
    {
     "name": "stdin",
     "output_type": "stream",
     "text": [
      "Enter the number:  25\n"
     ]
    },
    {
     "name": "stdout",
     "output_type": "stream",
     "text": [
      "25*1=25\n",
      "25*2=50\n",
      "25*3=75\n",
      "25*4=100\n",
      "25*5=125\n",
      "25*6=150\n",
      "25*7=175\n",
      "25*8=200\n",
      "25*9=225\n",
      "25*10=250\n"
     ]
    }
   ],
   "source": [
    "num=int(input(\"Enter the number: \"))\n",
    "for i in range(1,11):\n",
    "    print(f\"{num}*{i}={num*i}\")\n",
    "    # use the for loop and multiple the value of iteration with the user-input "
   ]
  },
  {
   "cell_type": "code",
   "execution_count": null,
   "id": "502c8aaa-378d-4117-b606-4d7adfcbbc82",
   "metadata": {},
   "outputs": [],
   "source": []
  },
  {
   "cell_type": "markdown",
   "id": "df4e7dae-24bc-4cbe-a98e-534b9b4f68a4",
   "metadata": {},
   "source": [
    "Q6. Write a program that counts the number of even and odd numbers in a list using a `for` loop."
   ]
  },
  {
   "cell_type": "code",
   "execution_count": 44,
   "id": "c30adadc-1077-4180-8003-5d05a8c710ae",
   "metadata": {},
   "outputs": [
    {
     "name": "stdout",
     "output_type": "stream",
     "text": [
      "Even number count:  5\n",
      "Odd number count:  5\n"
     ]
    }
   ],
   "source": [
    "l=[]\n",
    "for i in range(1,11):\n",
    "    l.append(i)\n",
    "count_even=0\n",
    "count_odd=0\n",
    "# take the count_even and count_odd as zero\n",
    "for i in l:\n",
    "    if i%2==0:\n",
    "        count_even+=1\n",
    "        # if i is divided by the 2 then count_even \n",
    "    else:\n",
    "        count_odd+=1\n",
    "        # else count_odd\n",
    "\n",
    "print(f\"Even number count: \",count_even)\n",
    "print(f\"Odd number count: \",count_odd)"
   ]
  },
  {
   "cell_type": "code",
   "execution_count": null,
   "id": "474e5faf-b622-4bda-8630-8ccbdc9b5fd7",
   "metadata": {},
   "outputs": [],
   "source": []
  },
  {
   "cell_type": "markdown",
   "id": "7ebaac4d-2297-4a7a-b009-13da7c0a9fe7",
   "metadata": {},
   "source": [
    "Q7. Develop a program that prints the squares of numbers from 1 to 5 using a `for` loop."
   ]
  },
  {
   "cell_type": "code",
   "execution_count": 45,
   "id": "265ab24f-f8ee-4bb2-8cec-33232b793cbc",
   "metadata": {},
   "outputs": [
    {
     "name": "stdout",
     "output_type": "stream",
     "text": [
      "The square of 1 is 1\n",
      "The square of 2 is 4\n",
      "The square of 3 is 9\n",
      "The square of 4 is 16\n",
      "The square of 5 is 25\n"
     ]
    }
   ],
   "source": [
    "l=[]\n",
    "for i in range(1,6):\n",
    "    l.append(i)\n",
    "for i in l:\n",
    "    print(f\"The square of {i} is {i*i}\")\n",
    "    # take element from the iteration and make the square"
   ]
  },
  {
   "cell_type": "code",
   "execution_count": null,
   "id": "b8167216-4c30-433b-b43d-471528d8ccab",
   "metadata": {},
   "outputs": [],
   "source": []
  },
  {
   "cell_type": "markdown",
   "id": "e10c6abb-88df-4168-9e46-62df6cd8974f",
   "metadata": {},
   "source": [
    "Q8. Create a program to find the length of a string without using the `len()` function."
   ]
  },
  {
   "cell_type": "code",
   "execution_count": 46,
   "id": "03a79869-d795-4263-a3be-51956b358ee4",
   "metadata": {},
   "outputs": [
    {
     "name": "stdin",
     "output_type": "stream",
     "text": [
      "Enter the string:  my name\n"
     ]
    },
    {
     "name": "stdout",
     "output_type": "stream",
     "text": [
      "The length of the string:  7\n"
     ]
    }
   ],
   "source": [
    "string=input(\"Enter the string: \")\n",
    "total=0\n",
    "# take total as zero\n",
    "for i in string: \n",
    "    total=total+1\n",
    "    # sum the element in the list and start count\n",
    "print(\"The length of the string: \",total)    \n"
   ]
  },
  {
   "cell_type": "code",
   "execution_count": null,
   "id": "d4d35979-5610-4aa9-b44c-60ec1d2d6e98",
   "metadata": {},
   "outputs": [],
   "source": []
  },
  {
   "cell_type": "markdown",
   "id": "e0cb687f-a8fa-4cf0-9d81-67997ef6cd31",
   "metadata": {},
   "source": [
    "Q9. Write a program that calculates the average of a list of numbers using a `for` loop."
   ]
  },
  {
   "cell_type": "code",
   "execution_count": 47,
   "id": "772dc805-ca89-4a0f-8c33-35bce328efeb",
   "metadata": {},
   "outputs": [
    {
     "name": "stdout",
     "output_type": "stream",
     "text": [
      "The average is:  12.5\n"
     ]
    }
   ],
   "source": [
    "l=[]\n",
    "for i in range(1,25):\n",
    "    l.append(i)\n",
    "avg=sum(l)/len(l)\n",
    "# to get the average of the list I use sum() to sum the element of list and use len() to find the length  of the list\n",
    "print(\"The average is: \",avg)"
   ]
  },
  {
   "cell_type": "code",
   "execution_count": null,
   "id": "c34f7483-f81f-4923-bf57-68057a904767",
   "metadata": {},
   "outputs": [],
   "source": []
  },
  {
   "cell_type": "markdown",
   "id": "2f9064b2-f154-489d-9047-d79bc0fe3f2a",
   "metadata": {},
   "source": [
    "Q10. Develop a program that prints the first `n` Fibonacci numbers using a `for` loop."
   ]
  },
  {
   "cell_type": "code",
   "execution_count": 2,
   "id": "b62e28a0-ee93-4beb-9905-053ccd4d0208",
   "metadata": {},
   "outputs": [
    {
     "name": "stdin",
     "output_type": "stream",
     "text": [
      "Enter the number of terms:  10\n"
     ]
    },
    {
     "name": "stdout",
     "output_type": "stream",
     "text": [
      "Fibonacci sequence:\n",
      "0\n",
      "1\n",
      "1\n",
      "2\n",
      "3\n",
      "5\n",
      "8\n",
      "13\n",
      "21\n",
      "34\n"
     ]
    }
   ],
   "source": [
    "n = int(input(\"Enter the number of terms: \"))\n",
    "\n",
    "# initialize first two terms\n",
    "num1, num2 = 0, 1\n",
    "count = 0\n",
    "\n",
    "# check if the number of terms is valid\n",
    "if n <= 0:\n",
    "   print(\"Please enter a positive integer\")\n",
    "elif n == 1:\n",
    "   print(\"Fibonacci sequence upto\",n,\":\")\n",
    "   print(num1)\n",
    "else:\n",
    "   print(\"Fibonacci sequence:\")\n",
    "   while count < n:\n",
    "       print(num1)\n",
    "       nth = num1 + num2\n",
    "       # update values\n",
    "       num1 = num2\n",
    "       num2 = nth\n",
    "       count += 1\n"
   ]
  },
  {
   "cell_type": "code",
   "execution_count": null,
   "id": "1fdec3e3-03b0-4b7f-a556-2fcfcfe892c3",
   "metadata": {},
   "outputs": [],
   "source": []
  },
  {
   "cell_type": "markdown",
   "id": "884894a4-c781-46e2-8908-59ae2815e505",
   "metadata": {},
   "source": [
    "## Intermediate Leve:"
   ]
  },
  {
   "cell_type": "code",
   "execution_count": null,
   "id": "031fbafd-9ca9-438b-a3a6-f1b9738b4228",
   "metadata": {},
   "outputs": [],
   "source": []
  },
  {
   "cell_type": "markdown",
   "id": "30eff0c9-292b-4231-aa3e-36f0e76cd056",
   "metadata": {},
   "source": [
    "Q11. Write a program to check if a given list contains any duplicates using a `for` loop."
   ]
  },
  {
   "cell_type": "code",
   "execution_count": 3,
   "id": "ccf910bd-31f6-48cd-85f1-0878638274bf",
   "metadata": {},
   "outputs": [
    {
     "name": "stdout",
     "output_type": "stream",
     "text": [
      "[1, 2, 5, 9]\n"
     ]
    }
   ],
   "source": [
    "lis = [1, 2, 1, 2, 3, 4, 5, 1, 1, 2, 5, 6, 7, 8, 9, 9]\n",
    " \n",
    "uniqueList = []\n",
    "duplicateList = []\n",
    " \n",
    "for i in lis:\n",
    "    if i not in uniqueList:\n",
    "        uniqueList.append(i)\n",
    "    elif i not in duplicateList:\n",
    "        duplicateList.append(i)\n",
    " \n",
    "print(duplicateList)"
   ]
  },
  {
   "cell_type": "markdown",
   "id": "09d34c32-6b44-4629-b9fa-fdf06350974c",
   "metadata": {},
   "source": [
    "OR"
   ]
  },
  {
   "cell_type": "code",
   "execution_count": 4,
   "id": "ee61623d-897d-4acf-b1fd-1e54866fecea",
   "metadata": {},
   "outputs": [
    {
     "name": "stdout",
     "output_type": "stream",
     "text": [
      "The list contains duplicates.\n"
     ]
    }
   ],
   "source": [
    "def has_duplicates(lst):\n",
    "    for i in range(len(lst)):\n",
    "        for j in range(i + 1, len(lst)):\n",
    "            if lst[i] == lst[j]:\n",
    "                return True\n",
    "    return False\n",
    "\n",
    "lst = [1, 2, 3, 4, 5,5]\n",
    "if has_duplicates(lst):\n",
    "    print(\"The list contains duplicates.\")\n",
    "else:\n",
    "    print(\"The list does not contain duplicates.\")\n"
   ]
  },
  {
   "cell_type": "code",
   "execution_count": null,
   "id": "1398d87c-9ce5-4bb8-b9d1-d750ad580a1b",
   "metadata": {},
   "outputs": [],
   "source": []
  },
  {
   "cell_type": "markdown",
   "id": "076bb12d-27cb-4e45-ac46-5bdfb2fcd1ae",
   "metadata": {},
   "source": [
    "Q12. Create a program that prints the prime numbers in a given range using a `for` loop."
   ]
  },
  {
   "cell_type": "code",
   "execution_count": 12,
   "id": "2a725da2-d9f6-4895-8a00-fb932ea9303d",
   "metadata": {},
   "outputs": [
    {
     "name": "stdout",
     "output_type": "stream",
     "text": [
      "2\n",
      "3\n",
      "5\n",
      "7\n"
     ]
    }
   ],
   "source": [
    "def prime(lower,higher):\n",
    "    for num in range(lower,higher+1):\n",
    "        if num>1:\n",
    "            for i in range(2,num):\n",
    "                if num%i==0:\n",
    "                    break\n",
    "            else:\n",
    "                print(num)\n",
    "                \n",
    "prime(1,10)"
   ]
  },
  {
   "cell_type": "code",
   "execution_count": null,
   "id": "99c3d21d-ccd9-4d3c-8444-48d0940e7ec6",
   "metadata": {},
   "outputs": [],
   "source": []
  },
  {
   "cell_type": "markdown",
   "id": "f72d4ce6-5804-44d0-abee-f6ee522170f4",
   "metadata": {},
   "source": [
    "Q13. Develop a program that counts the number of vowels in a string using a `for` loop."
   ]
  },
  {
   "cell_type": "code",
   "execution_count": 13,
   "id": "556cd9b3-330a-429a-b164-d886ab98846a",
   "metadata": {},
   "outputs": [
    {
     "name": "stdin",
     "output_type": "stream",
     "text": [
      "Enter the string:  name\n"
     ]
    },
    {
     "name": "stdout",
     "output_type": "stream",
     "text": [
      "2\n"
     ]
    }
   ],
   "source": [
    "vowel=\"aeiouAEIOU\"\n",
    "total=0\n",
    "string=input(\"Enter the string: \")\n",
    "\n",
    "for i in string:\n",
    "    if i in vowel:\n",
    "        total+=1\n",
    "print(total)        "
   ]
  },
  {
   "cell_type": "code",
   "execution_count": null,
   "id": "3695a63d-897c-4779-ade6-b8638b8a556f",
   "metadata": {},
   "outputs": [],
   "source": []
  },
  {
   "cell_type": "markdown",
   "id": "f3711732-c01c-4c17-a1c6-2b5555035136",
   "metadata": {},
   "source": [
    "Q14. Write a program to find the maximum element in a 2D list using a nested `for` loop."
   ]
  },
  {
   "cell_type": "code",
   "execution_count": 2,
   "id": "265e4517-3c91-40b3-86ac-d9bf6333f6ec",
   "metadata": {},
   "outputs": [
    {
     "name": "stdout",
     "output_type": "stream",
     "text": [
      "9\n"
     ]
    }
   ],
   "source": [
    "def max_element_2d_list(my_list):\n",
    "    max_element = my_list[0][0]\n",
    "    for i in range(len(my_list)):\n",
    "        for j in range(len(my_list[i])):\n",
    "            if my_list[i][j] > max_element:\n",
    "                max_element = my_list[i][j]\n",
    "    return max_element\n",
    "\n",
    "my_list = [[1, 2, 3], [4, 5, 6], [7, 8, 9]]\n",
    "print(max_element_2d_list(my_list))"
   ]
  },
  {
   "cell_type": "code",
   "execution_count": null,
   "id": "61b9bdde-1c78-484c-b852-51546180b7ae",
   "metadata": {},
   "outputs": [],
   "source": []
  },
  {
   "cell_type": "markdown",
   "id": "d9dc5e64-45ab-46c1-b72a-c0d9afbb0146",
   "metadata": {},
   "source": [
    "Q15. Create a program that removes all occurrences of a specific element from a list using a `for` loop."
   ]
  },
  {
   "cell_type": "code",
   "execution_count": 16,
   "id": "757b20a3-b135-46d5-90e5-3d6f15a6c6ee",
   "metadata": {},
   "outputs": [
    {
     "name": "stdin",
     "output_type": "stream",
     "text": [
      "Enter the specific element to delete in the list:  6\n"
     ]
    },
    {
     "name": "stdout",
     "output_type": "stream",
     "text": [
      "[1, 2, 2, 1, 2, 3, 5, 4, 1, 2, 1]\n"
     ]
    }
   ],
   "source": [
    "l=[1,2,2,1,2,3,5,6,4,6,1,2,6,1]\n",
    "x=int(input(\"Enter the specific element to delete in the list: \"))\n",
    "for i in l:\n",
    "    if x==i:\n",
    "        l.remove(x)\n",
    "print(l)    "
   ]
  },
  {
   "cell_type": "code",
   "execution_count": null,
   "id": "119eebe8-0156-46b3-9891-65a26b7b8ce1",
   "metadata": {},
   "outputs": [],
   "source": []
  },
  {
   "cell_type": "markdown",
   "id": "8c645c37-23e3-4e11-a6f6-8767c581b3ba",
   "metadata": {},
   "source": [
    "Q16. Develop a program that generates a multiplication table for numbers from 1 to 5 using a nested `for` loop."
   ]
  },
  {
   "cell_type": "code",
   "execution_count": 20,
   "id": "c10e6ca6-3318-4b54-aec7-eb466e4e71f7",
   "metadata": {},
   "outputs": [
    {
     "name": "stdout",
     "output_type": "stream",
     "text": [
      "1*1= 1\n",
      "1*2= 2\n",
      "1*3= 3\n",
      "1*4= 4\n",
      "1*5= 5\n",
      "1*6= 6\n",
      "1*7= 7\n",
      "1*8= 8\n",
      "1*9= 9\n",
      "1*10= 10\n",
      "\n",
      "\n",
      "2*1= 2\n",
      "2*2= 4\n",
      "2*3= 6\n",
      "2*4= 8\n",
      "2*5= 10\n",
      "2*6= 12\n",
      "2*7= 14\n",
      "2*8= 16\n",
      "2*9= 18\n",
      "2*10= 20\n",
      "\n",
      "\n",
      "3*1= 3\n",
      "3*2= 6\n",
      "3*3= 9\n",
      "3*4= 12\n",
      "3*5= 15\n",
      "3*6= 18\n",
      "3*7= 21\n",
      "3*8= 24\n",
      "3*9= 27\n",
      "3*10= 30\n",
      "\n",
      "\n",
      "4*1= 4\n",
      "4*2= 8\n",
      "4*3= 12\n",
      "4*4= 16\n",
      "4*5= 20\n",
      "4*6= 24\n",
      "4*7= 28\n",
      "4*8= 32\n",
      "4*9= 36\n",
      "4*10= 40\n",
      "\n",
      "\n",
      "5*1= 5\n",
      "5*2= 10\n",
      "5*3= 15\n",
      "5*4= 20\n",
      "5*5= 25\n",
      "5*6= 30\n",
      "5*7= 35\n",
      "5*8= 40\n",
      "5*9= 45\n",
      "5*10= 50\n",
      "\n",
      "\n"
     ]
    }
   ],
   "source": [
    "for i in range(1,6):\n",
    "    for j in range(1,11):\n",
    "        print(f\"{i}*{j}=\",i*j)\n",
    "    print(\"\\n\")    "
   ]
  },
  {
   "cell_type": "code",
   "execution_count": null,
   "id": "910d2948-8f27-4eca-a775-87fa5b1b396e",
   "metadata": {},
   "outputs": [],
   "source": []
  },
  {
   "cell_type": "markdown",
   "id": "4488ddb7-4605-43e6-bbfa-e2828849ac02",
   "metadata": {},
   "source": [
    "Q17. Write a program that converts a list of Fahrenheit temperatures to Celsius using a `for` loop."
   ]
  },
  {
   "cell_type": "code",
   "execution_count": 3,
   "id": "af314f35-8c60-4386-9d73-9528b5d3bfc1",
   "metadata": {},
   "outputs": [
    {
     "name": "stdout",
     "output_type": "stream",
     "text": [
      "[127.77777777777779, 127.22222222222223, -9.305555555555555, 119.16666666666667]\n"
     ]
    }
   ],
   "source": [
    "l=[262,261,15.25,246.5]\n",
    "\n",
    "l1=[]\n",
    "for i in l:\n",
    "    c= (i - 32)*(5/9)\n",
    "    l1.append(c)\n",
    "print(l1)    \n",
    "   "
   ]
  },
  {
   "cell_type": "code",
   "execution_count": null,
   "id": "1be68df9-b855-4cd6-8dd1-f4b0c7bd1126",
   "metadata": {},
   "outputs": [],
   "source": []
  },
  {
   "cell_type": "markdown",
   "id": "9f33d0d3-be85-4ed3-84a6-dc0f63aed74c",
   "metadata": {},
   "source": [
    "Q18. Create a program to print the common elements from two lists using a `for` loop."
   ]
  },
  {
   "cell_type": "code",
   "execution_count": 1,
   "id": "049ce0f5-973e-43f9-a1f0-a28425e818f1",
   "metadata": {},
   "outputs": [
    {
     "name": "stdout",
     "output_type": "stream",
     "text": [
      "List 1:  [1, 2, 3, 5, 9, 8, 2, 6]\n",
      "List 2:  [26, 2641, 262, 25, 86, 9, 7, 3, 6]\n",
      "[3, 9, 6]\n"
     ]
    }
   ],
   "source": [
    "l1=[1,2,3,5,9,8,2,6]\n",
    "l2=[26,2641,262,25,86,9,7,3,6]\n",
    "print('List 1: ',l1)\n",
    "print('List 2: ',l2)\n",
    "l=[]\n",
    "for i in l1:\n",
    "    for j in l2:\n",
    "        if i==j:\n",
    "            l.append(j)\n",
    "print(l)   "
   ]
  },
  {
   "cell_type": "code",
   "execution_count": null,
   "id": "f52fd126-1ab6-450b-8a6c-d221524b92f6",
   "metadata": {},
   "outputs": [],
   "source": []
  },
  {
   "cell_type": "markdown",
   "id": "c5f8c4dc-3192-4bf5-ae68-a7f0b4b1fa74",
   "metadata": {},
   "source": [
    "Q19. Develop a program that prints the pattern of right-angled triangles using a `for` loop. Use ‘*’ to draw the \n",
    "pattern"
   ]
  },
  {
   "cell_type": "code",
   "execution_count": 1,
   "id": "8e650e38-a171-42ea-8e28-fca2fb11027b",
   "metadata": {},
   "outputs": [
    {
     "name": "stdout",
     "output_type": "stream",
     "text": [
      "* \n",
      "\n",
      "* * \n",
      "\n",
      "* * * \n",
      "\n",
      "* * * * \n",
      "\n",
      "* * * * * \n",
      "\n"
     ]
    }
   ],
   "source": [
    "for i in range(5):\n",
    "    for j in range(i+1):\n",
    "        print(\"*\",end=' ')\n",
    "    print(\"\\n\")        "
   ]
  },
  {
   "cell_type": "code",
   "execution_count": null,
   "id": "9a0729bd-8838-411c-814b-0e02f80a65c5",
   "metadata": {},
   "outputs": [],
   "source": []
  },
  {
   "cell_type": "markdown",
   "id": "97745ff3-e116-442c-b341-913e18d12ec4",
   "metadata": {},
   "source": [
    "Q20. Write a program to find the greatest common divisor (GCD) of two numbers using a `for` loop."
   ]
  },
  {
   "cell_type": "code",
   "execution_count": 8,
   "id": "38779e7d-3719-43d6-ba21-8e3ce2ad125b",
   "metadata": {},
   "outputs": [
    {
     "name": "stdout",
     "output_type": "stream",
     "text": [
      "GCD of 18 and 60 is 6\n"
     ]
    }
   ],
   "source": [
    "n1=18\n",
    "n2=60\n",
    "gcd=1\n",
    "\n",
    "for i in range(1,min(n1,n2)):\n",
    "    if n1%i==0 and n2%i==0:\n",
    "        gcd=i\n",
    "print(\"GCD of\", n1,\"and\", n2,\"is\", gcd)        "
   ]
  },
  {
   "cell_type": "code",
   "execution_count": null,
   "id": "ee125e6a-b4ce-4325-8055-ddc0b4964b9c",
   "metadata": {},
   "outputs": [],
   "source": []
  },
  {
   "cell_type": "markdown",
   "id": "b09ca31a-ef03-473c-83e0-11f39c99b3d8",
   "metadata": {},
   "source": [
    "## Advanced Level:"
   ]
  },
  {
   "cell_type": "code",
   "execution_count": null,
   "id": "cb4f8260-ef42-4eb3-b124-10162f07e9bb",
   "metadata": {},
   "outputs": [],
   "source": []
  },
  {
   "cell_type": "markdown",
   "id": "3faf2476-05d6-4fe2-ba78-6d8b1eced520",
   "metadata": {},
   "source": [
    "Q21. Create a program that calculates the sum of the digits of numbers in a list using a list comprehension."
   ]
  },
  {
   "cell_type": "code",
   "execution_count": 16,
   "id": "6e90b71b-3f98-404e-8e66-8ce13b0c88e9",
   "metadata": {},
   "outputs": [
    {
     "name": "stdout",
     "output_type": "stream",
     "text": [
      "The sum of the digit in the list is = [2, 7, 11, 7, 8]\n"
     ]
    }
   ],
   "source": [
    "l=[11,25,65,25,62]\n",
    "sum_digit=[sum(int(digit) for digit in str(num)) for num in l]\n",
    "print(f\"The sum of the digit in the list is = {sum_digit}\")"
   ]
  },
  {
   "cell_type": "code",
   "execution_count": null,
   "id": "1ff6301c-077e-48e3-a1d9-89898aacc80c",
   "metadata": {},
   "outputs": [],
   "source": []
  },
  {
   "cell_type": "markdown",
   "id": "4f8e2533-9f70-4a1c-b56b-54aee30eba03",
   "metadata": {},
   "source": [
    "Q22. Write a program to find the prime factors of a given number using a `for` loop and list comprehension."
   ]
  },
  {
   "cell_type": "code",
   "execution_count": 6,
   "id": "1a46f278-012f-4a83-b0ce-cbc56c9f4b7c",
   "metadata": {},
   "outputs": [
    {
     "name": "stdin",
     "output_type": "stream",
     "text": [
      "Enter the number:  20\n"
     ]
    },
    {
     "name": "stdout",
     "output_type": "stream",
     "text": [
      "The prime factors of 20 are: [2, 5]\n"
     ]
    }
   ],
   "source": [
    "def find_prime_factors(n):\n",
    "    factors=[x for x in range(2,n+1) if n%x==0]\n",
    "    prime_factor=[]\n",
    "    \n",
    "    for factor in factors:\n",
    "        is_prime=True\n",
    "        for i in range(2,int(factor**0.5)+1):\n",
    "            if factor%i==0:\n",
    "                is_prime = False\n",
    "                break\n",
    "        if is_prime:\n",
    "            prime_factor.append(factor)\n",
    "    return prime_factor       \n",
    "            \n",
    "num=int(input(\"Enter the number: \"))\n",
    "if num<=1:\n",
    "    print(\"Prime factors cannot be found for number less than or equal to 1\")\n",
    "else:\n",
    "    prime_factor=find_prime_factors(num)\n",
    "    \n",
    "    if len(prime_factor) == 0:\n",
    "        print(f\"{num} is a prime number and has no prime factors.\")\n",
    "    else:\n",
    "        print(f\"The prime factors of {num} are: {prime_factor}\")\n",
    "         "
   ]
  },
  {
   "cell_type": "code",
   "execution_count": null,
   "id": "44003251-d5b4-4343-af1f-8fb15e822d31",
   "metadata": {},
   "outputs": [],
   "source": []
  },
  {
   "cell_type": "markdown",
   "id": "c931714d-5c1f-45a4-a21e-70dca2702125",
   "metadata": {},
   "source": [
    "Q23. Develop a program that extracts unique elements from a list and stores them in a new list using a list \n",
    "comprehension."
   ]
  },
  {
   "cell_type": "code",
   "execution_count": 17,
   "id": "bc829ac1-fcd7-413d-9785-5af9f13954a2",
   "metadata": {},
   "outputs": [
    {
     "name": "stdout",
     "output_type": "stream",
     "text": [
      "List:  [1, 2, 3, 4, 6, 5, 1, 8, 2, 5, 6, 1, 7, 2, 2]\n",
      "Unique element in the list: [1, 2, 3, 4, 5, 6, 7, 8]\n"
     ]
    }
   ],
   "source": [
    "l=[1,2,3,4,6,5,1,8,2,5,6,1,7,2,2]\n",
    "print(\"List: \",l)\n",
    "x=[i for i in set(l)]\n",
    "print(f\"Unique element in the list: {x}\")"
   ]
  },
  {
   "cell_type": "code",
   "execution_count": null,
   "id": "e5887bfd-a18c-405f-8e95-ce2d5d5c18b7",
   "metadata": {},
   "outputs": [],
   "source": []
  },
  {
   "cell_type": "markdown",
   "id": "d5f61842-38fa-4d27-93c0-d8366bd4b8a8",
   "metadata": {},
   "source": [
    "Q24. Create a program that generates a list of all palindromic numbers up to a specified limit using a list \n",
    "comprehension."
   ]
  },
  {
   "cell_type": "code",
   "execution_count": 24,
   "id": "a040a024-ff8b-448b-a4f1-34bc7764aa61",
   "metadata": {},
   "outputs": [
    {
     "name": "stdin",
     "output_type": "stream",
     "text": [
      "Enter the limit upto which use want palindromic number:  100\n"
     ]
    },
    {
     "name": "stdout",
     "output_type": "stream",
     "text": [
      "[1, 2, 3, 4, 5, 6, 7, 8, 9, 11, 22, 33, 44, 55, 66, 77, 88, 99]\n"
     ]
    }
   ],
   "source": [
    "limit=int(input(\"Enter the limit upto which use want palindromic number: \"))\n",
    "x=[num for num in range(1,limit+1) if str(num) == str(num)[::-1]]\n",
    "print(x)"
   ]
  },
  {
   "cell_type": "code",
   "execution_count": null,
   "id": "963dfa68-8fc7-45b5-bcbc-e45523790d65",
   "metadata": {},
   "outputs": [],
   "source": []
  },
  {
   "cell_type": "markdown",
   "id": "43df96c1-5a07-468a-9ba1-e2702e8ab60b",
   "metadata": {},
   "source": [
    "Q25. Write a program to flatten a nested list using list comprehension."
   ]
  },
  {
   "cell_type": "code",
   "execution_count": 7,
   "id": "d78f3aa2-d026-41cf-ad1d-03ebfc83aacc",
   "metadata": {},
   "outputs": [
    {
     "name": "stdout",
     "output_type": "stream",
     "text": [
      "[1, 2, 3, 4, 5, 6]\n"
     ]
    }
   ],
   "source": [
    "nested_list=[[1,2],[3,4],[5,6]]\n",
    "flatten_list=[i for sublist in nested_list for i in sublist]\n",
    "print(flatten_list)"
   ]
  },
  {
   "cell_type": "code",
   "execution_count": null,
   "id": "5c4b7359-d11b-4f67-bca4-0cf107bcd6f6",
   "metadata": {},
   "outputs": [],
   "source": []
  },
  {
   "cell_type": "markdown",
   "id": "a8c690b9-519c-4cc1-a8dc-9c4a66fe8b1b",
   "metadata": {},
   "source": [
    "Q26. Develop a program that computes the sum of even and odd numbers in a list separately using list \n",
    "comprehension."
   ]
  },
  {
   "cell_type": "code",
   "execution_count": 7,
   "id": "fdb5985d-8e0b-49cd-b64d-1bcc4ef8df2d",
   "metadata": {},
   "outputs": [
    {
     "name": "stdout",
     "output_type": "stream",
     "text": [
      "30\n",
      "25\n"
     ]
    }
   ],
   "source": [
    "l=[1,2,3,4,5,6,7,8,9,10]\n",
    "l1=[]\n",
    "l2=[]\n",
    "x=[l1.append(i) if i%2==0 else l2.append(i) for i in l]\n",
    "print(sum(l1))\n",
    "print(sum(l2))"
   ]
  },
  {
   "cell_type": "code",
   "execution_count": null,
   "id": "3292dd3e-5de8-4074-bce5-d52c9c0443ee",
   "metadata": {},
   "outputs": [],
   "source": []
  },
  {
   "cell_type": "markdown",
   "id": "4303211a-be24-4441-b1d0-cded97bbd419",
   "metadata": {},
   "source": [
    "Q27. Create a program that generates a list of squares of odd numbers between 1 and 10 using list \n",
    "comprehension."
   ]
  },
  {
   "cell_type": "code",
   "execution_count": 8,
   "id": "ebc6170b-49f7-4831-9c10-fff9b5a86942",
   "metadata": {},
   "outputs": [
    {
     "data": {
      "text/plain": [
       "[1, 9, 25, 49, 81]"
      ]
     },
     "execution_count": 8,
     "metadata": {},
     "output_type": "execute_result"
    }
   ],
   "source": [
    "list(map(lambda a:a*a,[i for i in range(1,11) if i%2!=0]))"
   ]
  },
  {
   "cell_type": "code",
   "execution_count": null,
   "id": "51c0979f-4a59-45bb-af14-a4c382ae5f93",
   "metadata": {},
   "outputs": [],
   "source": []
  },
  {
   "cell_type": "markdown",
   "id": "c57bd4e9-68f1-4669-9847-ee3dea98b552",
   "metadata": {},
   "source": [
    "Q28. Write a program that combines two lists into a dictionary using list comprehension."
   ]
  },
  {
   "cell_type": "code",
   "execution_count": 7,
   "id": "fdeb8d32-1b18-46f0-9bda-aab769bda64c",
   "metadata": {},
   "outputs": [
    {
     "name": "stdout",
     "output_type": "stream",
     "text": [
      "{1: 'new', 2: 'old', 3: 'renew'}\n"
     ]
    }
   ],
   "source": [
    "l1=[1,2,3]\n",
    "l2=['new','old','renew']\n",
    "dictionary={l1[i]:l2[i] for i in range(len(l1))}\n",
    "print(dictionary)"
   ]
  },
  {
   "cell_type": "code",
   "execution_count": null,
   "id": "a36663fe-95dd-4cd6-ae9d-10447214a03d",
   "metadata": {},
   "outputs": [],
   "source": []
  },
  {
   "cell_type": "markdown",
   "id": "9cafc9e3-b15c-4dbc-9774-562b71fb0346",
   "metadata": {},
   "source": [
    "Q29. Develop a program that extracts the vowels from a string and stores them in a list using list comprehension."
   ]
  },
  {
   "cell_type": "code",
   "execution_count": 10,
   "id": "007f9fa7-8ef4-46e7-aae1-757323672336",
   "metadata": {},
   "outputs": [
    {
     "name": "stdin",
     "output_type": "stream",
     "text": [
      "Enter the string:  I live in Uttar Pradesh\n"
     ]
    },
    {
     "name": "stdout",
     "output_type": "stream",
     "text": [
      "['i', 'i', 'e', 'i', 'u', 'a', 'a', 'e']\n"
     ]
    }
   ],
   "source": [
    "string=input(\"Enter the string: \").lower()\n",
    "vowel='aeiou'\n",
    "extract=[i for i in string if i in vowel]\n",
    "print(extract)"
   ]
  },
  {
   "cell_type": "code",
   "execution_count": null,
   "id": "4b15a6cb-02a4-428e-8067-3f2a5a6d02ce",
   "metadata": {},
   "outputs": [],
   "source": []
  },
  {
   "cell_type": "markdown",
   "id": "1bdaafbe-9afb-4cb1-acb0-91a78eea410b",
   "metadata": {},
   "source": [
    "Q30. Create a program that removes all non-numeric characters from a list of strings using list comprehension."
   ]
  },
  {
   "cell_type": "code",
   "execution_count": 26,
   "id": "b70cd517-fe50-4829-b897-33af7c802330",
   "metadata": {},
   "outputs": [
    {
     "name": "stdout",
     "output_type": "stream",
     "text": [
      "['123', '456', '789']\n"
     ]
    }
   ],
   "source": [
    "my_list = ['abc123', 'def456', 'ghi789']\n",
    "new_list = [''.join([j for j in i if j.isdigit()]) for i in my_list]\n",
    "print(new_list)"
   ]
  },
  {
   "cell_type": "code",
   "execution_count": null,
   "id": "716bce58-b2dd-4878-b610-8b852cdb3859",
   "metadata": {},
   "outputs": [],
   "source": []
  },
  {
   "cell_type": "markdown",
   "id": "2f62ac64-37b3-4482-95f9-75fdf57c729e",
   "metadata": {},
   "source": [
    "## Challenge Level:"
   ]
  },
  {
   "cell_type": "markdown",
   "id": "4edde6e9-0650-4c29-8bd7-b58afb430eb6",
   "metadata": {},
   "source": [
    "Q31. Write a program to generate a list of prime numbers using the Sieve of Eratosthenes algorithm and list \n",
    "comprehension."
   ]
  },
  {
   "cell_type": "code",
   "execution_count": 11,
   "id": "44026840-1875-4543-8c48-bfe5c3d1e189",
   "metadata": {},
   "outputs": [
    {
     "name": "stdout",
     "output_type": "stream",
     "text": [
      "[2, 3, 5, 7, 11, 13, 17, 19, 23, 29, 31, 37, 41, 43, 47, 53, 59, 61, 67, 71, 73, 79, 83, 89, 97]\n"
     ]
    }
   ],
   "source": [
    "def sieve_of_eratosthenes(n):\n",
    "    primes = [True] * (n + 1)\n",
    "    primes[0] = primes[1] = False\n",
    "    for i in range(2, int(n ** 0.5) + 1):\n",
    "        if primes[i]:\n",
    "            primes[i * i: n + 1: i] = [False] * len(primes[i * i: n + 1: i])\n",
    "    return [i for i in range(2, n + 1) if primes[i]]\n",
    "\n",
    "print(sieve_of_eratosthenes(100))"
   ]
  },
  {
   "cell_type": "code",
   "execution_count": null,
   "id": "3a15483c-221f-4a18-a82d-4f95eebb9023",
   "metadata": {},
   "outputs": [],
   "source": []
  },
  {
   "cell_type": "markdown",
   "id": "5a205dda-fbef-41f8-b66a-9506a3c729b3",
   "metadata": {},
   "source": [
    "Q32. Create a program that generates a list of all Pythagorean triplets up to a specified limit using list \n",
    "comprehension."
   ]
  },
  {
   "cell_type": "code",
   "execution_count": 28,
   "id": "ea3451b1-f6fc-416b-ba1a-40af111f5364",
   "metadata": {},
   "outputs": [
    {
     "name": "stdin",
     "output_type": "stream",
     "text": [
      "Enter the limit:  20\n"
     ]
    },
    {
     "name": "stdout",
     "output_type": "stream",
     "text": [
      "Pythagorean triplets upto 20 is:\n",
      "(3, 4, 5)\n",
      "(6, 8, 10)\n",
      "(5, 12, 13)\n",
      "(9, 12, 15)\n",
      "(8, 15, 17)\n",
      "(12, 16, 20)\n"
     ]
    }
   ],
   "source": [
    "def pythagorean(limit):\n",
    "    triplets=[(k,j,i) for i in range(1,limit+1) for j in range(1,limit+1) for k in range(1,limit+1) if i**2 == j**2+k**2 and j>k ]\n",
    "    return triplets\n",
    "\n",
    "limit=int(input(\"Enter the limit: \"))\n",
    "print(f\"Pythagorean triplets upto {limit} is:\")\n",
    "for i in pythagorean(limit):\n",
    "    print(i)"
   ]
  },
  {
   "cell_type": "code",
   "execution_count": null,
   "id": "ff4afaea-4cae-45c4-898b-2829d7f099a0",
   "metadata": {},
   "outputs": [],
   "source": []
  },
  {
   "cell_type": "markdown",
   "id": "a151a5fd-4ec7-47cb-89f6-75897a189865",
   "metadata": {},
   "source": [
    "Q33. Develop a program that generates a list of all possible combinations of two lists using list comprehension."
   ]
  },
  {
   "cell_type": "code",
   "execution_count": 35,
   "id": "ceff414e-680f-4347-a6ce-a8c6bb08672d",
   "metadata": {},
   "outputs": [
    {
     "name": "stdout",
     "output_type": "stream",
     "text": [
      "[1, 2, 3][3, 4, 5]\n",
      "\n",
      "All possible of lists\n",
      "[(1, 3), (1, 4), (1, 5), (2, 3), (2, 4), (2, 5), (3, 3), (3, 4), (3, 5)]\n"
     ]
    }
   ],
   "source": [
    "l1=[1,2,3]\n",
    "l2=[3,4,5]\n",
    "print(str(l1)+str(l2))\n",
    "print()\n",
    "print(\"All possible of lists\")\n",
    "l=[(i,j) for i in l1 for j in l2 ]\n",
    "print(l)"
   ]
  },
  {
   "cell_type": "code",
   "execution_count": null,
   "id": "3584bc9a-9ba4-4bef-bac6-750904515a6c",
   "metadata": {},
   "outputs": [],
   "source": []
  },
  {
   "cell_type": "markdown",
   "id": "982177d8-216d-4a15-9734-17fcd1f49c6b",
   "metadata": {},
   "source": [
    "Q34. Write a program that calculates the mean, median, and mode of a list of numbers using list \n",
    "comprehension."
   ]
  },
  {
   "cell_type": "code",
   "execution_count": 27,
   "id": "f198000c-9d12-4c52-a8e7-8113b89ca52c",
   "metadata": {},
   "outputs": [
    {
     "name": "stdout",
     "output_type": "stream",
     "text": [
      "List: [1, 2, 3, 4, 5, 6, 7, 8, 9]\n",
      "Mean: 5.0\n",
      "Median: 5.0\n",
      "Mode: [1, 2, 3, 4, 5, 6, 7, 8, 9]\n"
     ]
    }
   ],
   "source": [
    "from collections import Counter\n",
    "\n",
    "def mean(lst):\n",
    "    return sum(lst) / len(lst)\n",
    "\n",
    "def median(lst):\n",
    "    lst = sorted(lst)\n",
    "    n = len(lst)\n",
    "    return (lst[n//2] + lst[-(n//2+1)]) / 2\n",
    "\n",
    "def mode(lst):\n",
    "    c = Counter(lst)\n",
    "    return [k for k, v in c.items() if v == max(c.values())]\n",
    "\n",
    "lst = [1, 2, 3, 4, 5, 6, 7, 8, 9]\n",
    "print(f\"List: {lst}\")\n",
    "print(f\"Mean: {mean(lst)}\")\n",
    "print(f\"Median: {median(lst)}\")\n",
    "print(f\"Mode: {mode(lst)}\")\n"
   ]
  },
  {
   "cell_type": "code",
   "execution_count": null,
   "id": "97aaed4e-5de2-4655-8819-44680dec5d59",
   "metadata": {},
   "outputs": [],
   "source": []
  },
  {
   "cell_type": "markdown",
   "id": "00ff16aa-d493-4ce5-9229-64a27dfd472c",
   "metadata": {},
   "source": [
    "Q35. Create a program that generates Pascal's triangle up to a specified number of rows using list comprehension."
   ]
  },
  {
   "cell_type": "code",
   "execution_count": 50,
   "id": "7a415f4e-5aeb-48a8-a929-0f55818270b6",
   "metadata": {},
   "outputs": [
    {
     "name": "stdout",
     "output_type": "stream",
     "text": [
      "       1       \n",
      "      1 1      \n",
      "     1 2 1     \n",
      "    1 3 3 1    \n",
      "   1 4 6 4 1   \n"
     ]
    }
   ],
   "source": [
    "def generate_pascals_triangle(n):\n",
    "    if n <= 0:\n",
    "        return []\n",
    "    \n",
    "    triangle = [[1]]\n",
    "    \n",
    "    for _ in range(1, n):\n",
    "        row = [1] + [triangle[-1][i] + triangle[-1][i + 1] for i in range(len(triangle[-1]) - 1)] + [1]\n",
    "        triangle.append(row)\n",
    "    \n",
    "    return triangle\n",
    "\n",
    "def print_pascals_triangle(triangle):\n",
    "    for row in triangle:\n",
    "        print(' '.join(map(str, row)).center(len(triangle[-1]) * 3))\n",
    "\n",
    "n = 5\n",
    "pascals_triangle = generate_pascals_triangle(n)\n",
    "print_pascals_triangle(pascals_triangle)"
   ]
  },
  {
   "cell_type": "code",
   "execution_count": null,
   "id": "78e89c97-0aab-4d67-957f-5071dd427287",
   "metadata": {},
   "outputs": [],
   "source": []
  },
  {
   "cell_type": "markdown",
   "id": "5c7faf8f-baf9-48d9-a843-5f76d40945d1",
   "metadata": {},
   "source": [
    "Q36. Develop a program that calculates the sum of the digits of a factorial of numbers from 1 to 5 using list comprehension."
   ]
  },
  {
   "cell_type": "code",
   "execution_count": 30,
   "id": "46b99476-3730-45e9-8793-140b10576956",
   "metadata": {},
   "outputs": [
    {
     "name": "stdout",
     "output_type": "stream",
     "text": [
      "[1, 2, 6, 6, 3]\n"
     ]
    }
   ],
   "source": [
    "def factorial(n):\n",
    "    if n<1:\n",
    "        return 1\n",
    "    else:\n",
    "        return n*factorial(n-1)\n",
    "\n",
    "sum_of_digit=[sum((int(digit)) for digit in str(factorial(num))) for num in range(1,6)]\n",
    "print(sum_of_digit)"
   ]
  },
  {
   "cell_type": "code",
   "execution_count": null,
   "id": "130897d2-499e-4c57-85fe-e33c94d3bcfd",
   "metadata": {},
   "outputs": [],
   "source": []
  },
  {
   "cell_type": "markdown",
   "id": "5848fa87-141b-4921-970e-a6f641c58bd0",
   "metadata": {},
   "source": [
    "Q37. Write a program that finds the longest word in a sentence using list comprehension."
   ]
  },
  {
   "cell_type": "code",
   "execution_count": 15,
   "id": "24cf7d5b-be85-45c4-b11c-30e0446649d1",
   "metadata": {},
   "outputs": [
    {
     "name": "stdin",
     "output_type": "stream",
     "text": [
      "Enter the string:  i live in aligarh\n"
     ]
    },
    {
     "name": "stdout",
     "output_type": "stream",
     "text": [
      "['aligarh']\n"
     ]
    }
   ],
   "source": [
    "string=input(\"Enter the string: \")\n",
    "l=string.split()\n",
    "longest_word=len(max(l,key=len))\n",
    "longest=[i for i in l if len(i)==longest_word]\n",
    "print(longest)"
   ]
  },
  {
   "cell_type": "code",
   "execution_count": null,
   "id": "6514f0d0-2e5c-4322-89f1-98b6e7ed0e67",
   "metadata": {},
   "outputs": [],
   "source": []
  },
  {
   "cell_type": "markdown",
   "id": "c135b74f-46fb-4df9-8b28-ff1d428e4aaa",
   "metadata": {},
   "source": [
    "Q38. Create a program that filters a list of strings to include only those with more than three vowels using list \n",
    "comprehension."
   ]
  },
  {
   "cell_type": "code",
   "execution_count": 23,
   "id": "8cce7303-7062-4ec6-bc04-726400a91dc7",
   "metadata": {},
   "outputs": [
    {
     "name": "stdout",
     "output_type": "stream",
     "text": [
      "['madhyapradesh', 'uttarpradesh', 'tamilnadu']\n"
     ]
    }
   ],
   "source": [
    "string_list=['madhyapradesh','uttarpradesh','delhi','tamilnadu','goa']\n",
    "\n",
    "def count_vowel(string):\n",
    "    return sum(1 for char in string if char in 'aeiouAEIOU')\n",
    "\n",
    "filtered_string=[string for string in string_list if count_vowel(string)>3]\n",
    "print(filtered_string)"
   ]
  },
  {
   "cell_type": "code",
   "execution_count": null,
   "id": "b06536c5-8e1e-4dd5-a30d-b3918f2b93aa",
   "metadata": {},
   "outputs": [],
   "source": []
  },
  {
   "cell_type": "markdown",
   "id": "79cb8fb5-53e0-40bd-8c86-8b7ce256bd43",
   "metadata": {},
   "source": [
    "Q39. Develop a program that calculates the sum of the digits of numbers from 1 to 1000 using list comprehension."
   ]
  },
  {
   "cell_type": "code",
   "execution_count": 34,
   "id": "df26ec0d-308a-4578-bb1f-ec37f6ac23ed",
   "metadata": {},
   "outputs": [
    {
     "name": "stdout",
     "output_type": "stream",
     "text": [
      "13501\n"
     ]
    }
   ],
   "source": [
    "sum_of_digit=[sum(int(digit) for digit in str(num)) for num in range(1,1001)]\n",
    "print(sum(sum_of_digit))"
   ]
  },
  {
   "cell_type": "markdown",
   "id": "9fbdcfb2-47ed-470e-8d47-ae3ed0edae0f",
   "metadata": {},
   "source": [
    "OR"
   ]
  },
  {
   "cell_type": "code",
   "execution_count": 51,
   "id": "7b6ab57f-f1f1-429a-b20b-057e359d7dd9",
   "metadata": {},
   "outputs": [
    {
     "name": "stdout",
     "output_type": "stream",
     "text": [
      "[1, 2, 3, 4, 5, 6, 7, 8, 9, 1, 2, 3, 4, 5, 6, 7, 8, 9, 10, 2, 3, 4, 5, 6, 7, 8, 9, 10, 11, 3, 4, 5, 6, 7, 8, 9, 10, 11, 12, 4, 5, 6, 7, 8, 9, 10, 11, 12, 13, 5, 6, 7, 8, 9, 10, 11, 12, 13, 14, 6, 7, 8, 9, 10, 11, 12, 13, 14, 15, 7, 8, 9, 10, 11, 12, 13, 14, 15, 16, 8, 9, 10, 11, 12, 13, 14, 15, 16, 17, 9, 10, 11, 12, 13, 14, 15, 16, 17, 18, 1, 2, 3, 4, 5, 6, 7, 8, 9, 10, 2, 3, 4, 5, 6, 7, 8, 9, 10, 11, 3, 4, 5, 6, 7, 8, 9, 10, 11, 12, 4, 5, 6, 7, 8, 9, 10, 11, 12, 13, 5, 6, 7, 8, 9, 10, 11, 12, 13, 14, 6, 7, 8, 9, 10, 11, 12, 13, 14, 15, 7, 8, 9, 10, 11, 12, 13, 14, 15, 16, 8, 9, 10, 11, 12, 13, 14, 15, 16, 17, 9, 10, 11, 12, 13, 14, 15, 16, 17, 18, 10, 11, 12, 13, 14, 15, 16, 17, 18, 19, 2, 3, 4, 5, 6, 7, 8, 9, 10, 11, 3, 4, 5, 6, 7, 8, 9, 10, 11, 12, 4, 5, 6, 7, 8, 9, 10, 11, 12, 13, 5, 6, 7, 8, 9, 10, 11, 12, 13, 14, 6, 7, 8, 9, 10, 11, 12, 13, 14, 15, 7, 8, 9, 10, 11, 12, 13, 14, 15, 16, 8, 9, 10, 11, 12, 13, 14, 15, 16, 17, 9, 10, 11, 12, 13, 14, 15, 16, 17, 18, 10, 11, 12, 13, 14, 15, 16, 17, 18, 19, 11, 12, 13, 14, 15, 16, 17, 18, 19, 20, 3, 4, 5, 6, 7, 8, 9, 10, 11, 12, 4, 5, 6, 7, 8, 9, 10, 11, 12, 13, 5, 6, 7, 8, 9, 10, 11, 12, 13, 14, 6, 7, 8, 9, 10, 11, 12, 13, 14, 15, 7, 8, 9, 10, 11, 12, 13, 14, 15, 16, 8, 9, 10, 11, 12, 13, 14, 15, 16, 17, 9, 10, 11, 12, 13, 14, 15, 16, 17, 18, 10, 11, 12, 13, 14, 15, 16, 17, 18, 19, 11, 12, 13, 14, 15, 16, 17, 18, 19, 20, 12, 13, 14, 15, 16, 17, 18, 19, 20, 21, 4, 5, 6, 7, 8, 9, 10, 11, 12, 13, 5, 6, 7, 8, 9, 10, 11, 12, 13, 14, 6, 7, 8, 9, 10, 11, 12, 13, 14, 15, 7, 8, 9, 10, 11, 12, 13, 14, 15, 16, 8, 9, 10, 11, 12, 13, 14, 15, 16, 17, 9, 10, 11, 12, 13, 14, 15, 16, 17, 18, 10, 11, 12, 13, 14, 15, 16, 17, 18, 19, 11, 12, 13, 14, 15, 16, 17, 18, 19, 20, 12, 13, 14, 15, 16, 17, 18, 19, 20, 21, 13, 14, 15, 16, 17, 18, 19, 20, 21, 22, 5, 6, 7, 8, 9, 10, 11, 12, 13, 14, 6, 7, 8, 9, 10, 11, 12, 13, 14, 15, 7, 8, 9, 10, 11, 12, 13, 14, 15, 16, 8, 9, 10, 11, 12, 13, 14, 15, 16, 17, 9, 10, 11, 12, 13, 14, 15, 16, 17, 18, 10, 11, 12, 13, 14, 15, 16, 17, 18, 19, 11, 12, 13, 14, 15, 16, 17, 18, 19, 20, 12, 13, 14, 15, 16, 17, 18, 19, 20, 21, 13, 14, 15, 16, 17, 18, 19, 20, 21, 22, 14, 15, 16, 17, 18, 19, 20, 21, 22, 23, 6, 7, 8, 9, 10, 11, 12, 13, 14, 15, 7, 8, 9, 10, 11, 12, 13, 14, 15, 16, 8, 9, 10, 11, 12, 13, 14, 15, 16, 17, 9, 10, 11, 12, 13, 14, 15, 16, 17, 18, 10, 11, 12, 13, 14, 15, 16, 17, 18, 19, 11, 12, 13, 14, 15, 16, 17, 18, 19, 20, 12, 13, 14, 15, 16, 17, 18, 19, 20, 21, 13, 14, 15, 16, 17, 18, 19, 20, 21, 22, 14, 15, 16, 17, 18, 19, 20, 21, 22, 23, 15, 16, 17, 18, 19, 20, 21, 22, 23, 24, 7, 8, 9, 10, 11, 12, 13, 14, 15, 16, 8, 9, 10, 11, 12, 13, 14, 15, 16, 17, 9, 10, 11, 12, 13, 14, 15, 16, 17, 18, 10, 11, 12, 13, 14, 15, 16, 17, 18, 19, 11, 12, 13, 14, 15, 16, 17, 18, 19, 20, 12, 13, 14, 15, 16, 17, 18, 19, 20, 21, 13, 14, 15, 16, 17, 18, 19, 20, 21, 22, 14, 15, 16, 17, 18, 19, 20, 21, 22, 23, 15, 16, 17, 18, 19, 20, 21, 22, 23, 24, 16, 17, 18, 19, 20, 21, 22, 23, 24, 25, 8, 9, 10, 11, 12, 13, 14, 15, 16, 17, 9, 10, 11, 12, 13, 14, 15, 16, 17, 18, 10, 11, 12, 13, 14, 15, 16, 17, 18, 19, 11, 12, 13, 14, 15, 16, 17, 18, 19, 20, 12, 13, 14, 15, 16, 17, 18, 19, 20, 21, 13, 14, 15, 16, 17, 18, 19, 20, 21, 22, 14, 15, 16, 17, 18, 19, 20, 21, 22, 23, 15, 16, 17, 18, 19, 20, 21, 22, 23, 24, 16, 17, 18, 19, 20, 21, 22, 23, 24, 25, 17, 18, 19, 20, 21, 22, 23, 24, 25, 26, 9, 10, 11, 12, 13, 14, 15, 16, 17, 18, 10, 11, 12, 13, 14, 15, 16, 17, 18, 19, 11, 12, 13, 14, 15, 16, 17, 18, 19, 20, 12, 13, 14, 15, 16, 17, 18, 19, 20, 21, 13, 14, 15, 16, 17, 18, 19, 20, 21, 22, 14, 15, 16, 17, 18, 19, 20, 21, 22, 23, 15, 16, 17, 18, 19, 20, 21, 22, 23, 24, 16, 17, 18, 19, 20, 21, 22, 23, 24, 25, 17, 18, 19, 20, 21, 22, 23, 24, 25, 26, 18, 19, 20, 21, 22, 23, 24, 25, 26, 27, 1]\n"
     ]
    }
   ],
   "source": [
    "sum_of_digit=[sum(int(digit) for digit in str(num)) for num in range(1,1001)]\n",
    "print(sum_of_digit)"
   ]
  },
  {
   "cell_type": "code",
   "execution_count": null,
   "id": "cf152cad-0cbc-4fa7-9c78-3a0b887632d7",
   "metadata": {},
   "outputs": [],
   "source": []
  },
  {
   "cell_type": "markdown",
   "id": "4972f7e7-7fe1-4c6d-b309-a56a5af013ad",
   "metadata": {},
   "source": [
    "Q40. Write a program that generates a list of prime palindromic numbers using list comprehension."
   ]
  },
  {
   "cell_type": "code",
   "execution_count": 30,
   "id": "d86599a8-c2be-4c08-ba4b-35cbd402f815",
   "metadata": {},
   "outputs": [
    {
     "name": "stdin",
     "output_type": "stream",
     "text": [
      "Enter the limit upto which you want the prime palindromin numbers  101\n"
     ]
    },
    {
     "name": "stdout",
     "output_type": "stream",
     "text": [
      "The prime palindromic numbers upto 101 is [2, 3, 5, 7, 11, 101]\n"
     ]
    }
   ],
   "source": [
    "def is_prime(n):\n",
    "    if n < 2:\n",
    "        return False\n",
    "    for i in range(2, int(n ** 0.5) + 1):\n",
    "        if n % i == 0:\n",
    "            return False\n",
    "    return True\n",
    "    \n",
    "limit=int(input(\"Enter the limit upto which you want the prime palindromin numbers \"))\n",
    "palindromic_primes = [n for n in range(2,limit+1) if str(n) == str(n)[::-1] and is_prime(n)]\n",
    "print(f\"The prime palindromic numbers upto {limit} is {palindromic_primes}\")"
   ]
  },
  {
   "cell_type": "code",
   "execution_count": null,
   "id": "b6577ccb-cc7d-46a6-b0ff-f00d7cc87e5d",
   "metadata": {},
   "outputs": [],
   "source": []
  }
 ],
 "metadata": {
  "kernelspec": {
   "display_name": "Python 3 (ipykernel)",
   "language": "python",
   "name": "python3"
  },
  "language_info": {
   "codemirror_mode": {
    "name": "ipython",
    "version": 3
   },
   "file_extension": ".py",
   "mimetype": "text/x-python",
   "name": "python",
   "nbconvert_exporter": "python",
   "pygments_lexer": "ipython3",
   "version": "3.12.0"
  }
 },
 "nbformat": 4,
 "nbformat_minor": 5
}
